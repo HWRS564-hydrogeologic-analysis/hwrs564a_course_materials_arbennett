{
 "cells": [
  {
   "cell_type": "code",
   "execution_count": null,
   "id": "a3d852c9",
   "metadata": {},
   "outputs": [],
   "source": [
    "def long_function_name(\n",
    "        var_one, var_two, var_three,\n",
    "        var_four):\n",
    "    print(var_one)"
   ]
  },
  {
   "cell_type": "code",
   "execution_count": null,
   "id": "abfe3958",
   "metadata": {},
   "outputs": [],
   "source": [
    "def long_function_name(\n",
    "    var_one,\n",
    "    var_two,\n",
    "    var_three,    \n",
    "):\n",
    "    print(var_one)"
   ]
  }
 ],
 "metadata": {
  "language_info": {
   "name": "python"
  }
 },
 "nbformat": 4,
 "nbformat_minor": 5
}
